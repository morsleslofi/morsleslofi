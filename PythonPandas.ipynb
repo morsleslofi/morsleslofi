{
  "nbformat": 4,
  "nbformat_minor": 0,
  "metadata": {
    "colab": {
      "provenance": [],
      "authorship_tag": "ABX9TyOhVMke3x2/Cr53CZA83ACr",
      "include_colab_link": true
    },
    "kernelspec": {
      "name": "python3",
      "display_name": "Python 3"
    },
    "language_info": {
      "name": "python"
    }
  },
  "cells": [
    {
      "cell_type": "markdown",
      "metadata": {
        "id": "view-in-github",
        "colab_type": "text"
      },
      "source": [
        "<a href=\"https://colab.research.google.com/github/morsleslofi/morsleslofi/blob/main/PythonPandas.ipynb\" target=\"_parent\"><img src=\"https://colab.research.google.com/assets/colab-badge.svg\" alt=\"Open In Colab\"/></a>"
      ]
    },
    {
      "cell_type": "code",
      "execution_count": 49,
      "metadata": {
        "id": "rbfl192r-hLl"
      },
      "outputs": [],
      "source": [
        "import numpy as np\n",
        "import pandas as pd\n",
        "\n",
        "from pandas import Series, DataFrame"
      ]
    },
    {
      "cell_type": "markdown",
      "source": [
        "Valor"
      ],
      "metadata": {
        "id": "G1oWDdvBLmnV"
      }
    },
    {
      "cell_type": "code",
      "source": [
        "dados = np.arange(6)"
      ],
      "metadata": {
        "id": "RXKaQb3XEwOx"
      },
      "execution_count": 67,
      "outputs": []
    },
    {
      "cell_type": "code",
      "source": [
        "dados"
      ],
      "metadata": {
        "colab": {
          "base_uri": "https://localhost:8080/"
        },
        "id": "j2qEWsuyOvym",
        "outputId": "127f7177-fe67-4b2e-c2c7-a7ba07047f9f"
      },
      "execution_count": 68,
      "outputs": [
        {
          "output_type": "execute_result",
          "data": {
            "text/plain": [
              "array([0, 1, 2, 3, 4, 5])"
            ]
          },
          "metadata": {},
          "execution_count": 68
        }
      ]
    },
    {
      "cell_type": "code",
      "source": [
        "dados.reshape((3,2))"
      ],
      "metadata": {
        "colab": {
          "base_uri": "https://localhost:8080/"
        },
        "id": "oR5QSGLAO4ak",
        "outputId": "a390ea32-4d46-4de4-a837-e5607a5c08b5"
      },
      "execution_count": 71,
      "outputs": [
        {
          "output_type": "execute_result",
          "data": {
            "text/plain": [
              "array([[0, 1],\n",
              "       [2, 3],\n",
              "       [4, 5]])"
            ]
          },
          "metadata": {},
          "execution_count": 71
        }
      ]
    },
    {
      "cell_type": "markdown",
      "source": [
        "DATA BASE"
      ],
      "metadata": {
        "id": "cFGM_AGdQVBj"
      }
    },
    {
      "cell_type": "code",
      "source": [
        "indice = ['RG', 'CPF', 'NIS/PIS', 'TELEFONE', 'AGÊNCIA', 'CONTA']\n",
        "serie = Series(dados, index=indice)"
      ],
      "metadata": {
        "id": "Xzivp3YeQfRc"
      },
      "execution_count": 73,
      "outputs": []
    },
    {
      "cell_type": "code",
      "source": [
        "serie"
      ],
      "metadata": {
        "colab": {
          "base_uri": "https://localhost:8080/"
        },
        "id": "m_7VIZHipOTc",
        "outputId": "34f98da6-f1dc-492c-c621-cfd551e890d3"
      },
      "execution_count": 74,
      "outputs": [
        {
          "output_type": "execute_result",
          "data": {
            "text/plain": [
              "RG          0\n",
              "CPF         1\n",
              "NIS/PIS     2\n",
              "TELEFONE    3\n",
              "AGÊNCIA     4\n",
              "CONTA       5\n",
              "dtype: int64"
            ]
          },
          "metadata": {},
          "execution_count": 74
        }
      ]
    },
    {
      "cell_type": "code",
      "source": [
        "serie['RG']\n"
      ],
      "metadata": {
        "colab": {
          "base_uri": "https://localhost:8080/"
        },
        "id": "dFSSZ4p4qSOk",
        "outputId": "b36ebba8-e6ae-496c-b7a5-090eddd94c66"
      },
      "execution_count": 75,
      "outputs": [
        {
          "output_type": "execute_result",
          "data": {
            "text/plain": [
              "0"
            ]
          },
          "metadata": {},
          "execution_count": 75
        }
      ]
    },
    {
      "cell_type": "markdown",
      "source": [],
      "metadata": {
        "id": "L9rnPp7Xqicu"
      }
    },
    {
      "cell_type": "code",
      "source": [
        "np.random.seed(25)\n",
        "indice = ['RG', 'CPF', 'NIS/PIS', 'TELEFONE', 'AGÊNCIA', 'CONTA']\n",
        "colunas = ['MICAEL', 'AMANDA', 'PERALTA', 'TOTORO', 'OREO', 'JOCA']\n",
        "df = DataFrame(np.random.rand(36).reshape((6,6)), \n",
        "               index= indice,\n",
        "               columns=colunas)\n",
        "df"
      ],
      "metadata": {
        "colab": {
          "base_uri": "https://localhost:8080/",
          "height": 238
        },
        "id": "tuNy6BZMqlQL",
        "outputId": "372c6427-aba8-40af-cad3-b2edc20b98c2"
      },
      "execution_count": 84,
      "outputs": [
        {
          "output_type": "execute_result",
          "data": {
            "text/plain": [
              "            MICAEL    AMANDA   PERALTA    TOTORO      OREO      JOCA\n",
              "RG        0.870124  0.582277  0.278839  0.185911  0.411100  0.117376\n",
              "CPF       0.684969  0.437611  0.556229  0.367080  0.402366  0.113041\n",
              "NIS/PIS   0.447031  0.585445  0.161985  0.520719  0.326051  0.699186\n",
              "TELEFONE  0.366395  0.836375  0.481343  0.516502  0.383048  0.997541\n",
              "AGÊNCIA   0.514244  0.559053  0.034450  0.719930  0.421004  0.436935\n",
              "CONTA     0.281701  0.900274  0.669612  0.456069  0.289804  0.525819"
            ],
            "text/html": [
              "\n",
              "  <div id=\"df-645eae75-3fcd-43c0-8e27-1ec41080966a\">\n",
              "    <div class=\"colab-df-container\">\n",
              "      <div>\n",
              "<style scoped>\n",
              "    .dataframe tbody tr th:only-of-type {\n",
              "        vertical-align: middle;\n",
              "    }\n",
              "\n",
              "    .dataframe tbody tr th {\n",
              "        vertical-align: top;\n",
              "    }\n",
              "\n",
              "    .dataframe thead th {\n",
              "        text-align: right;\n",
              "    }\n",
              "</style>\n",
              "<table border=\"1\" class=\"dataframe\">\n",
              "  <thead>\n",
              "    <tr style=\"text-align: right;\">\n",
              "      <th></th>\n",
              "      <th>MICAEL</th>\n",
              "      <th>AMANDA</th>\n",
              "      <th>PERALTA</th>\n",
              "      <th>TOTORO</th>\n",
              "      <th>OREO</th>\n",
              "      <th>JOCA</th>\n",
              "    </tr>\n",
              "  </thead>\n",
              "  <tbody>\n",
              "    <tr>\n",
              "      <th>RG</th>\n",
              "      <td>0.870124</td>\n",
              "      <td>0.582277</td>\n",
              "      <td>0.278839</td>\n",
              "      <td>0.185911</td>\n",
              "      <td>0.411100</td>\n",
              "      <td>0.117376</td>\n",
              "    </tr>\n",
              "    <tr>\n",
              "      <th>CPF</th>\n",
              "      <td>0.684969</td>\n",
              "      <td>0.437611</td>\n",
              "      <td>0.556229</td>\n",
              "      <td>0.367080</td>\n",
              "      <td>0.402366</td>\n",
              "      <td>0.113041</td>\n",
              "    </tr>\n",
              "    <tr>\n",
              "      <th>NIS/PIS</th>\n",
              "      <td>0.447031</td>\n",
              "      <td>0.585445</td>\n",
              "      <td>0.161985</td>\n",
              "      <td>0.520719</td>\n",
              "      <td>0.326051</td>\n",
              "      <td>0.699186</td>\n",
              "    </tr>\n",
              "    <tr>\n",
              "      <th>TELEFONE</th>\n",
              "      <td>0.366395</td>\n",
              "      <td>0.836375</td>\n",
              "      <td>0.481343</td>\n",
              "      <td>0.516502</td>\n",
              "      <td>0.383048</td>\n",
              "      <td>0.997541</td>\n",
              "    </tr>\n",
              "    <tr>\n",
              "      <th>AGÊNCIA</th>\n",
              "      <td>0.514244</td>\n",
              "      <td>0.559053</td>\n",
              "      <td>0.034450</td>\n",
              "      <td>0.719930</td>\n",
              "      <td>0.421004</td>\n",
              "      <td>0.436935</td>\n",
              "    </tr>\n",
              "    <tr>\n",
              "      <th>CONTA</th>\n",
              "      <td>0.281701</td>\n",
              "      <td>0.900274</td>\n",
              "      <td>0.669612</td>\n",
              "      <td>0.456069</td>\n",
              "      <td>0.289804</td>\n",
              "      <td>0.525819</td>\n",
              "    </tr>\n",
              "  </tbody>\n",
              "</table>\n",
              "</div>\n",
              "      <button class=\"colab-df-convert\" onclick=\"convertToInteractive('df-645eae75-3fcd-43c0-8e27-1ec41080966a')\"\n",
              "              title=\"Convert this dataframe to an interactive table.\"\n",
              "              style=\"display:none;\">\n",
              "        \n",
              "  <svg xmlns=\"http://www.w3.org/2000/svg\" height=\"24px\"viewBox=\"0 0 24 24\"\n",
              "       width=\"24px\">\n",
              "    <path d=\"M0 0h24v24H0V0z\" fill=\"none\"/>\n",
              "    <path d=\"M18.56 5.44l.94 2.06.94-2.06 2.06-.94-2.06-.94-.94-2.06-.94 2.06-2.06.94zm-11 1L8.5 8.5l.94-2.06 2.06-.94-2.06-.94L8.5 2.5l-.94 2.06-2.06.94zm10 10l.94 2.06.94-2.06 2.06-.94-2.06-.94-.94-2.06-.94 2.06-2.06.94z\"/><path d=\"M17.41 7.96l-1.37-1.37c-.4-.4-.92-.59-1.43-.59-.52 0-1.04.2-1.43.59L10.3 9.45l-7.72 7.72c-.78.78-.78 2.05 0 2.83L4 21.41c.39.39.9.59 1.41.59.51 0 1.02-.2 1.41-.59l7.78-7.78 2.81-2.81c.8-.78.8-2.07 0-2.86zM5.41 20L4 18.59l7.72-7.72 1.47 1.35L5.41 20z\"/>\n",
              "  </svg>\n",
              "      </button>\n",
              "      \n",
              "  <style>\n",
              "    .colab-df-container {\n",
              "      display:flex;\n",
              "      flex-wrap:wrap;\n",
              "      gap: 12px;\n",
              "    }\n",
              "\n",
              "    .colab-df-convert {\n",
              "      background-color: #E8F0FE;\n",
              "      border: none;\n",
              "      border-radius: 50%;\n",
              "      cursor: pointer;\n",
              "      display: none;\n",
              "      fill: #1967D2;\n",
              "      height: 32px;\n",
              "      padding: 0 0 0 0;\n",
              "      width: 32px;\n",
              "    }\n",
              "\n",
              "    .colab-df-convert:hover {\n",
              "      background-color: #E2EBFA;\n",
              "      box-shadow: 0px 1px 2px rgba(60, 64, 67, 0.3), 0px 1px 3px 1px rgba(60, 64, 67, 0.15);\n",
              "      fill: #174EA6;\n",
              "    }\n",
              "\n",
              "    [theme=dark] .colab-df-convert {\n",
              "      background-color: #3B4455;\n",
              "      fill: #D2E3FC;\n",
              "    }\n",
              "\n",
              "    [theme=dark] .colab-df-convert:hover {\n",
              "      background-color: #434B5C;\n",
              "      box-shadow: 0px 1px 3px 1px rgba(0, 0, 0, 0.15);\n",
              "      filter: drop-shadow(0px 1px 2px rgba(0, 0, 0, 0.3));\n",
              "      fill: #FFFFFF;\n",
              "    }\n",
              "  </style>\n",
              "\n",
              "      <script>\n",
              "        const buttonEl =\n",
              "          document.querySelector('#df-645eae75-3fcd-43c0-8e27-1ec41080966a button.colab-df-convert');\n",
              "        buttonEl.style.display =\n",
              "          google.colab.kernel.accessAllowed ? 'block' : 'none';\n",
              "\n",
              "        async function convertToInteractive(key) {\n",
              "          const element = document.querySelector('#df-645eae75-3fcd-43c0-8e27-1ec41080966a');\n",
              "          const dataTable =\n",
              "            await google.colab.kernel.invokeFunction('convertToInteractive',\n",
              "                                                     [key], {});\n",
              "          if (!dataTable) return;\n",
              "\n",
              "          const docLinkHtml = 'Like what you see? Visit the ' +\n",
              "            '<a target=\"_blank\" href=https://colab.research.google.com/notebooks/data_table.ipynb>data table notebook</a>'\n",
              "            + ' to learn more about interactive tables.';\n",
              "          element.innerHTML = '';\n",
              "          dataTable['output_type'] = 'display_data';\n",
              "          await google.colab.output.renderOutput(dataTable, element);\n",
              "          const docLink = document.createElement('div');\n",
              "          docLink.innerHTML = docLinkHtml;\n",
              "          element.appendChild(docLink);\n",
              "        }\n",
              "      </script>\n",
              "    </div>\n",
              "  </div>\n",
              "  "
            ]
          },
          "metadata": {},
          "execution_count": 84
        }
      ]
    },
    {
      "cell_type": "code",
      "source": [
        "df.loc[['RG','CPF'],['MICAEL', 'AMANDA']]"
      ],
      "metadata": {
        "colab": {
          "base_uri": "https://localhost:8080/",
          "height": 112
        },
        "id": "73vSpFA5tBCt",
        "outputId": "312f17ac-591a-4f0b-8366-b9f5ac887678"
      },
      "execution_count": 86,
      "outputs": [
        {
          "output_type": "execute_result",
          "data": {
            "text/plain": [
              "       MICAEL    AMANDA\n",
              "RG   0.870124  0.582277\n",
              "CPF  0.684969  0.437611"
            ],
            "text/html": [
              "\n",
              "  <div id=\"df-97ae5760-252d-4520-81e9-62d30ce5f6eb\">\n",
              "    <div class=\"colab-df-container\">\n",
              "      <div>\n",
              "<style scoped>\n",
              "    .dataframe tbody tr th:only-of-type {\n",
              "        vertical-align: middle;\n",
              "    }\n",
              "\n",
              "    .dataframe tbody tr th {\n",
              "        vertical-align: top;\n",
              "    }\n",
              "\n",
              "    .dataframe thead th {\n",
              "        text-align: right;\n",
              "    }\n",
              "</style>\n",
              "<table border=\"1\" class=\"dataframe\">\n",
              "  <thead>\n",
              "    <tr style=\"text-align: right;\">\n",
              "      <th></th>\n",
              "      <th>MICAEL</th>\n",
              "      <th>AMANDA</th>\n",
              "    </tr>\n",
              "  </thead>\n",
              "  <tbody>\n",
              "    <tr>\n",
              "      <th>RG</th>\n",
              "      <td>0.870124</td>\n",
              "      <td>0.582277</td>\n",
              "    </tr>\n",
              "    <tr>\n",
              "      <th>CPF</th>\n",
              "      <td>0.684969</td>\n",
              "      <td>0.437611</td>\n",
              "    </tr>\n",
              "  </tbody>\n",
              "</table>\n",
              "</div>\n",
              "      <button class=\"colab-df-convert\" onclick=\"convertToInteractive('df-97ae5760-252d-4520-81e9-62d30ce5f6eb')\"\n",
              "              title=\"Convert this dataframe to an interactive table.\"\n",
              "              style=\"display:none;\">\n",
              "        \n",
              "  <svg xmlns=\"http://www.w3.org/2000/svg\" height=\"24px\"viewBox=\"0 0 24 24\"\n",
              "       width=\"24px\">\n",
              "    <path d=\"M0 0h24v24H0V0z\" fill=\"none\"/>\n",
              "    <path d=\"M18.56 5.44l.94 2.06.94-2.06 2.06-.94-2.06-.94-.94-2.06-.94 2.06-2.06.94zm-11 1L8.5 8.5l.94-2.06 2.06-.94-2.06-.94L8.5 2.5l-.94 2.06-2.06.94zm10 10l.94 2.06.94-2.06 2.06-.94-2.06-.94-.94-2.06-.94 2.06-2.06.94z\"/><path d=\"M17.41 7.96l-1.37-1.37c-.4-.4-.92-.59-1.43-.59-.52 0-1.04.2-1.43.59L10.3 9.45l-7.72 7.72c-.78.78-.78 2.05 0 2.83L4 21.41c.39.39.9.59 1.41.59.51 0 1.02-.2 1.41-.59l7.78-7.78 2.81-2.81c.8-.78.8-2.07 0-2.86zM5.41 20L4 18.59l7.72-7.72 1.47 1.35L5.41 20z\"/>\n",
              "  </svg>\n",
              "      </button>\n",
              "      \n",
              "  <style>\n",
              "    .colab-df-container {\n",
              "      display:flex;\n",
              "      flex-wrap:wrap;\n",
              "      gap: 12px;\n",
              "    }\n",
              "\n",
              "    .colab-df-convert {\n",
              "      background-color: #E8F0FE;\n",
              "      border: none;\n",
              "      border-radius: 50%;\n",
              "      cursor: pointer;\n",
              "      display: none;\n",
              "      fill: #1967D2;\n",
              "      height: 32px;\n",
              "      padding: 0 0 0 0;\n",
              "      width: 32px;\n",
              "    }\n",
              "\n",
              "    .colab-df-convert:hover {\n",
              "      background-color: #E2EBFA;\n",
              "      box-shadow: 0px 1px 2px rgba(60, 64, 67, 0.3), 0px 1px 3px 1px rgba(60, 64, 67, 0.15);\n",
              "      fill: #174EA6;\n",
              "    }\n",
              "\n",
              "    [theme=dark] .colab-df-convert {\n",
              "      background-color: #3B4455;\n",
              "      fill: #D2E3FC;\n",
              "    }\n",
              "\n",
              "    [theme=dark] .colab-df-convert:hover {\n",
              "      background-color: #434B5C;\n",
              "      box-shadow: 0px 1px 3px 1px rgba(0, 0, 0, 0.15);\n",
              "      filter: drop-shadow(0px 1px 2px rgba(0, 0, 0, 0.3));\n",
              "      fill: #FFFFFF;\n",
              "    }\n",
              "  </style>\n",
              "\n",
              "      <script>\n",
              "        const buttonEl =\n",
              "          document.querySelector('#df-97ae5760-252d-4520-81e9-62d30ce5f6eb button.colab-df-convert');\n",
              "        buttonEl.style.display =\n",
              "          google.colab.kernel.accessAllowed ? 'block' : 'none';\n",
              "\n",
              "        async function convertToInteractive(key) {\n",
              "          const element = document.querySelector('#df-97ae5760-252d-4520-81e9-62d30ce5f6eb');\n",
              "          const dataTable =\n",
              "            await google.colab.kernel.invokeFunction('convertToInteractive',\n",
              "                                                     [key], {});\n",
              "          if (!dataTable) return;\n",
              "\n",
              "          const docLinkHtml = 'Like what you see? Visit the ' +\n",
              "            '<a target=\"_blank\" href=https://colab.research.google.com/notebooks/data_table.ipynb>data table notebook</a>'\n",
              "            + ' to learn more about interactive tables.';\n",
              "          element.innerHTML = '';\n",
              "          dataTable['output_type'] = 'display_data';\n",
              "          await google.colab.output.renderOutput(dataTable, element);\n",
              "          const docLink = document.createElement('div');\n",
              "          docLink.innerHTML = docLinkHtml;\n",
              "          element.appendChild(docLink);\n",
              "        }\n",
              "      </script>\n",
              "    </div>\n",
              "  </div>\n",
              "  "
            ]
          },
          "metadata": {},
          "execution_count": 86
        }
      ]
    },
    {
      "cell_type": "code",
      "source": [
        "serie['RG':'CONTA']"
      ],
      "metadata": {
        "colab": {
          "base_uri": "https://localhost:8080/"
        },
        "id": "1SrKR4fNtgdy",
        "outputId": "1bce1394-d993-487e-feca-9ac1b75ce989"
      },
      "execution_count": 90,
      "outputs": [
        {
          "output_type": "execute_result",
          "data": {
            "text/plain": [
              "RG          0\n",
              "CPF         1\n",
              "NIS/PIS     2\n",
              "TELEFONE    3\n",
              "AGÊNCIA     4\n",
              "CONTA       5\n",
              "dtype: int64"
            ]
          },
          "metadata": {},
          "execution_count": 90
        }
      ]
    }
  ]
}